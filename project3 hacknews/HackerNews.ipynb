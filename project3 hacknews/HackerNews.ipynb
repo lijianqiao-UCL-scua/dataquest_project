{
 "cells": [
  {
   "cell_type": "markdown",
   "metadata": {
    "collapsed": true
   },
   "source": [
    "# Hacker News Post Analysis #"
   ]
  },
  {
   "cell_type": "markdown",
   "metadata": {},
   "source": [
    "\n",
    "Welcome to Hacker News!! Hacker News is a website that is popular in technology and start-up circles. Users submit stories, known as posts.\n",
    "\n",
    "This analysis will \n",
    "\n",
    "- Determine if *Ask HN* or *Show HN* receives more comments\n",
    "- Determine if posts created at a certain time receive more comments on average\n",
    "\n",
    "Users use *Ask HN* posts to ask the Hacker News community a specific. Some exmaples of *Ask HN* posts are,\n",
    "\n",
    "* Ask HN: How to improve my personal website?\n",
    "* Ask HN: Am I the only one outraged by Twitter shutting down share counts?\n",
    "* Ask HN: Aby recent changes to CSS that broke mobile?\n",
    "\n",
    "Users use *Show HN* posts to show the Hacker News community a project, product or something interesting. Some exmaples of *Show HN* posts are,\n",
    "* Show HN: Wio Link  ESP8266 Based Web of Things Hardware Development Platform'\n",
    "* Show HN: Something pointless I made\n",
    "* Show HN: Shanhu.io, a programming playground powered by e8vm"
   ]
  },
  {
   "cell_type": "markdown",
   "metadata": {},
   "source": [
    "The Hacker News data can be accessed at [Hacker News link](https://www.kaggle.com/hacker-news/hacker-news-posts). A description of the columns are:\n",
    "* **id:** the unique identifier from Hacker News for the post\n",
    "* **title:** the title of the post\n",
    "* **url:** the URL that the posts links to, if the post has a URL\n",
    "* **num_points:** the number of points the post acquired, calculated as the total number of upvotes minus the total number of downvotes\n",
    "* **num_comments:** the number of comments on the post\n",
    "* **author:** the username of the person who submitted the post\n",
    "* **created_at:** the date and time of the post's submission\n"
   ]
  },
  {
   "cell_type": "markdown",
   "metadata": {},
   "source": [
    "### Exploration of Haker News Dataset ###"
   ]
  },
  {
   "cell_type": "code",
   "execution_count": 1,
   "metadata": {},
   "outputs": [
    {
     "name": "stdout",
     "output_type": "stream",
     "text": [
      "The first five rows of the Hacker News dataset\n",
      "\n",
      "\n"
     ]
    },
    {
     "data": {
      "text/plain": [
       "[['id', 'title', 'url', 'num_points', 'num_comments', 'author', 'created_at'],\n",
       " ['12224879',\n",
       "  'Interactive Dynamic Video',\n",
       "  'http://www.interactivedynamicvideo.com/',\n",
       "  '386',\n",
       "  '52',\n",
       "  'ne0phyte',\n",
       "  '8/4/2016 11:52'],\n",
       " ['10975351',\n",
       "  'How to Use Open Source and Shut the Fuck Up at the Same Time',\n",
       "  'http://hueniverse.com/2016/01/26/how-to-use-open-source-and-shut-the-fuck-up-at-the-same-time/',\n",
       "  '39',\n",
       "  '10',\n",
       "  'josep2',\n",
       "  '1/26/2016 19:30'],\n",
       " ['11964716',\n",
       "  \"Florida DJs May Face Felony for April Fools' Water Joke\",\n",
       "  'http://www.thewire.com/entertainment/2013/04/florida-djs-april-fools-water-joke/63798/',\n",
       "  '2',\n",
       "  '1',\n",
       "  'vezycash',\n",
       "  '6/23/2016 22:20'],\n",
       " ['11919867',\n",
       "  'Technology ventures: From Idea to Enterprise',\n",
       "  'https://www.amazon.com/Technology-Ventures-Enterprise-Thomas-Byers/dp/0073523429',\n",
       "  '3',\n",
       "  '1',\n",
       "  'hswarna',\n",
       "  '6/17/2016 0:01']]"
      ]
     },
     "execution_count": 1,
     "metadata": {},
     "output_type": "execute_result"
    }
   ],
   "source": [
    "#Read in the Hacker News file \n",
    "\n",
    "from csv import reader\n",
    "opened_file = open('hacker_news.csv')\n",
    "read_file = reader(opened_file)\n",
    "hn = list(read_file)\n",
    "\n",
    "#show the 1st 5 rows\n",
    "print('The first five rows of the Hacker News dataset') \n",
    "print('\\n') \n",
    "hn[:5]\n"
   ]
  },
  {
   "cell_type": "markdown",
   "metadata": {},
   "source": [
    "Since the header row of the dataset is the column names, it is not needed for the analysis and will be removed into a separate list."
   ]
  },
  {
   "cell_type": "code",
   "execution_count": 2,
   "metadata": {},
   "outputs": [
    {
     "name": "stdout",
     "output_type": "stream",
     "text": [
      "['id', 'title', 'url', 'num_points', 'num_comments', 'author', 'created_at']\n",
      "\n",
      "\n",
      "[['12224879', 'Interactive Dynamic Video', 'http://www.interactivedynamicvideo.com/', '386', '52', 'ne0phyte', '8/4/2016 11:52'], ['10975351', 'How to Use Open Source and Shut the Fuck Up at the Same Time', 'http://hueniverse.com/2016/01/26/how-to-use-open-source-and-shut-the-fuck-up-at-the-same-time/', '39', '10', 'josep2', '1/26/2016 19:30'], ['11964716', \"Florida DJs May Face Felony for April Fools' Water Joke\", 'http://www.thewire.com/entertainment/2013/04/florida-djs-april-fools-water-joke/63798/', '2', '1', 'vezycash', '6/23/2016 22:20'], ['11919867', 'Technology ventures: From Idea to Enterprise', 'https://www.amazon.com/Technology-Ventures-Enterprise-Thomas-Byers/dp/0073523429', '3', '1', 'hswarna', '6/17/2016 0:01'], ['10301696', 'Note by Note: The Making of Steinway L1037 (2007)', 'http://www.nytimes.com/2007/11/07/movies/07stein.html?_r=0', '8', '2', 'walterbell', '9/30/2015 4:12']]\n"
     ]
    }
   ],
   "source": [
    "#assign 1st row, column headers, of dataset to headers\n",
    "\n",
    "headers = hn[0]\n",
    "hn = hn[1:]\n",
    "print(headers)\n",
    "print('\\n')\n",
    "print(hn[:5])"
   ]
  },
  {
   "cell_type": "markdown",
   "metadata": {},
   "source": [
    "### Extract *Ask HN* and *Show HN* Posts ###"
   ]
  },
  {
   "cell_type": "markdown",
   "metadata": {},
   "source": [
    "Now that the Hacker News dataset has been uploaded, the next step is to generate a list of only those posts the are related to Ask HN and Show HN. \n",
    "\n",
    "This is achieved by looping through the Hacker News dateset and filtering on titles that include Ask HN and Show HN. All other posts will be saved as Other."
   ]
  },
  {
   "cell_type": "code",
   "execution_count": 3,
   "metadata": {},
   "outputs": [
    {
     "name": "stdout",
     "output_type": "stream",
     "text": [
      "The number of Ask HN posts are 1744\n",
      "The number of Show HN posts are 1162\n",
      "The number of Other posts are 17194\n"
     ]
    }
   ],
   "source": [
    "#create new lists containing posts titles with Ask HN and Show HN\n",
    "\n",
    "ask_posts = []\n",
    "show_posts = []\n",
    "other_posts = []\n",
    "\n",
    "for row in hn:\n",
    "    title = row[1]\n",
    "    title = title.lower()\n",
    "    if title.startswith('ask hn'):\n",
    "        ask_posts.append(row)\n",
    "    elif title.startswith('show hn'):\n",
    "        show_posts.append(row)\n",
    "    else:\n",
    "        other_posts.append(row)\n",
    "        \n",
    "print('The number of Ask HN posts are', len(ask_posts))\n",
    "print('The number of Show HN posts are', len(show_posts))\n",
    "print('The number of Other posts are', len(other_posts))"
   ]
  },
  {
   "cell_type": "markdown",
   "metadata": {},
   "source": [
    "**Explore *Ask HN* and *Show HN* Posts**"
   ]
  },
  {
   "cell_type": "code",
   "execution_count": 4,
   "metadata": {},
   "outputs": [
    {
     "name": "stdout",
     "output_type": "stream",
     "text": [
      "These are the 1st five rows of the Ask HN posts\n",
      "\n",
      "\n",
      "[['12296411', 'Ask HN: How to improve my personal website?', '', '2', '6', 'ahmedbaracat', '8/16/2016 9:55'], ['10610020', 'Ask HN: Am I the only one outraged by Twitter shutting down share counts?', '', '28', '29', 'tkfx', '11/22/2015 13:43'], ['11610310', 'Ask HN: Aby recent changes to CSS that broke mobile?', '', '1', '1', 'polskibus', '5/2/2016 10:14'], ['12210105', 'Ask HN: Looking for Employee #3 How do I do it?', '', '1', '3', 'sph130', '8/2/2016 14:20'], ['10394168', 'Ask HN: Someone offered to buy my browser extension from me. What now?', '', '28', '17', 'roykolak', '10/15/2015 16:38']]\n"
     ]
    }
   ],
   "source": [
    "#print the first five rows from the Ask HN posts\n",
    "\n",
    "print('These are the 1st five rows of the Ask HN posts')\n",
    "print('\\n')\n",
    "print(ask_posts[:5])"
   ]
  },
  {
   "cell_type": "code",
   "execution_count": 5,
   "metadata": {},
   "outputs": [
    {
     "name": "stdout",
     "output_type": "stream",
     "text": [
      "These are the 1st five rows of the Show HN posts\n",
      "\n",
      "\n",
      "[['10627194', 'Show HN: Wio Link  ESP8266 Based Web of Things Hardware Development Platform', 'https://iot.seeed.cc', '26', '22', 'kfihihc', '11/25/2015 14:03'], ['10646440', 'Show HN: Something pointless I made', 'http://dn.ht/picklecat/', '747', '102', 'dhotson', '11/29/2015 22:46'], ['11590768', 'Show HN: Shanhu.io, a programming playground powered by e8vm', 'https://shanhu.io', '1', '1', 'h8liu', '4/28/2016 18:05'], ['12178806', 'Show HN: Webscope  Easy way for web developers to communicate with Clients', 'http://webscopeapp.com', '3', '3', 'fastbrick', '7/28/2016 7:11'], ['10872799', 'Show HN: GeoScreenshot  Easily test Geo-IP based web pages', 'https://www.geoscreenshot.com/', '1', '9', 'kpsychwave', '1/9/2016 20:45']]\n"
     ]
    }
   ],
   "source": [
    "#print the first five rows from the Show HN posts\n",
    "\n",
    "print('These are the 1st five rows of the Show HN posts')\n",
    "print('\\n')\n",
    "print(show_posts[:5])"
   ]
  },
  {
   "cell_type": "markdown",
   "metadata": {},
   "source": [
    "### Determine Average Number Of Comments for *Ask HN* and *Show HN* Posts ###"
   ]
  },
  {
   "cell_type": "markdown",
   "metadata": {},
   "source": [
    "One aspect of the analysis is to determine which type of posts - *Ask HN* or *Show HN* - receive more comments. In order to determine this, the average number of comments will calculated."
   ]
  },
  {
   "cell_type": "code",
   "execution_count": 6,
   "metadata": {},
   "outputs": [
    {
     "name": "stdout",
     "output_type": "stream",
     "text": [
      "The average number of Ask HN posts are 12241.5\n",
      "The average number of Show HN posts are 5994.0\n",
      "\n",
      "\n",
      "The total number of Ask HN posts are 24483\n",
      "The total number of Show HN posts are 11988\n"
     ]
    }
   ],
   "source": [
    "#calculate average number of comments for \n",
    "#Ask HN and Show HN posts\n",
    "\n",
    "total_ask_comments = 0\n",
    "total_show_comments = 0\n",
    "\n",
    "for row in ask_posts:\n",
    "    n_ask_comments = int(row[4])\n",
    "    total_ask_comments += n_ask_comments\n",
    "    avg_ask_comments = total_ask_comments/n_ask_comments\n",
    "\n",
    "for row in show_posts:\n",
    "    n_show_comments = int(row[4])\n",
    "    total_show_comments += n_show_comments\n",
    "    avg_show_comments = total_show_comments/n_show_comments\n",
    "\n",
    "print('The average number of Ask HN posts are', avg_ask_comments)\n",
    "print('The average number of Show HN posts are', avg_show_comments)\n",
    "print('\\n')\n",
    "print('The total number of Ask HN posts are',total_ask_comments)\n",
    "print('The total number of Show HN posts are',total_show_comments)"
   ]
  },
  {
   "cell_type": "markdown",
   "metadata": {},
   "source": [
    "The total number of comments for both the Ask HN and Show HN is a static number that is determined based on when the dataset was downloaded. However, since the Hacker News is a dynamic website, meaning the content changes regularly, determining the average number of comments is a better guage than calculating the total number of comments for each type of post. \n",
    "\n",
    "At the time when the Hacker News dataset was downloaded for this analysis, the average number of Ask HN posts far exceed the average number of Show HN posts. The average number of Ask HN posts are more than double the average number of Show HN posts. This trend is obviously also reflected in the total number of Ask HN and Show HN posts. \n",
    "\n",
    "At the time of this analysis, the Ask HN posts are more popular than the Show HN posts. In order to conclude whether or not this is a common occurence, the Hacker News dataset will have be re-analyzed when the dataset has new Ask HN and Show HN posts to determine if this is a common trend."
   ]
  },
  {
   "cell_type": "markdown",
   "metadata": {},
   "source": [
    "### Determine What Time of Day Are Most *Ask HN* Posts ###"
   ]
  },
  {
   "cell_type": "markdown",
   "metadata": {},
   "source": [
    "Now that it's been determined that the *Ask HN* posts are more popular than the *Show HN* posts, the next step is to calculate the average number of *Ask HN* posts per hour.\n",
    "\n",
    "First, determine the number of counts per hour and the number of comments per hour."
   ]
  },
  {
   "cell_type": "markdown",
   "metadata": {},
   "source": [
    "**Calculate Number of *Ask HN* Posts per Hour & Total Number of Comments**"
   ]
  },
  {
   "cell_type": "code",
   "execution_count": 7,
   "metadata": {},
   "outputs": [
    {
     "name": "stdout",
     "output_type": "stream",
     "text": [
      "The number of counts by hour is {'09': 45, '13': 85, '10': 59, '14': 107, '16': 108, '23': 68, '12': 73, '17': 100, '15': 116, '21': 109, '20': 80, '02': 58, '18': 109, '03': 54, '05': 46, '19': 110, '01': 60, '22': 71, '08': 48, '04': 47, '00': 55, '06': 44, '07': 34, '11': 58}\n",
      "\n",
      "\n",
      "The number of comments by hour is {'09': 251, '13': 1253, '10': 793, '14': 1416, '16': 1814, '23': 543, '12': 687, '17': 1146, '15': 4477, '21': 1745, '20': 1722, '02': 1381, '18': 1439, '03': 421, '05': 464, '19': 1188, '01': 683, '22': 479, '08': 492, '04': 337, '00': 447, '06': 397, '07': 267, '11': 641}\n"
     ]
    }
   ],
   "source": [
    "#calculate the number of Ask HN posts created per hour and\n",
    "#calculate the total number of comments\n",
    "\n",
    "import datetime as dt\n",
    "\n",
    "#generate list to include created_at (time post created) and \n",
    "#number of comments\n",
    "result_list = []\n",
    "for row in ask_posts:\n",
    "    created_time = row[6]\n",
    "    n_comments = int(row[4])\n",
    "    result_list.append([created_time, n_comments])\n",
    "    \n",
    "counts_by_hour = {}\n",
    "comments_by_hour = {}\n",
    "for row in result_list:\n",
    "    hr = row[0]\n",
    "    comment = row[1]\n",
    "    dt_hr = dt.datetime.strptime(hr, \"%m/%d/%Y %H:%M\") #extract hour from created at column\n",
    "    hr_only = dt.datetime.strftime(dt_hr, \"%H\")\n",
    "    \n",
    "    #populate counts_by_hour and comments_by_hour dictionaries\n",
    "    #with hour from datetime object as the dictionary key\n",
    "    if hr_only not in counts_by_hour:\n",
    "        counts_by_hour[hr_only] = 1\n",
    "        comments_by_hour[hr_only] = comment\n",
    "    else:\n",
    "        counts_by_hour[hr_only] += 1\n",
    "        comments_by_hour[hr_only] += comment\n",
    "\n",
    "print('The number of counts by hour is', counts_by_hour)\n",
    "print('\\n')\n",
    "print('The number of comments by hour is', comments_by_hour)"
   ]
  },
  {
   "cell_type": "markdown",
   "metadata": {},
   "source": [
    "**Calculate Average Number of *Ask HN* Posts per Hour**"
   ]
  },
  {
   "cell_type": "markdown",
   "metadata": {},
   "source": [
    "Now that the number of *Ask HN* posts per hour and the number of comments per hour has been determined, the next step is to use this informaiton to calculate the average number of *Ask HN* comments per hour of the day."
   ]
  },
  {
   "cell_type": "code",
   "execution_count": 8,
   "metadata": {},
   "outputs": [
    {
     "name": "stdout",
     "output_type": "stream",
     "text": [
      "The average number of commnets per hour of day is \n",
      " [['09', 5.5777777777777775], ['13', 14.741176470588234], ['10', 13.440677966101696], ['14', 13.233644859813085], ['16', 16.796296296296298], ['23', 7.985294117647059], ['12', 9.41095890410959], ['17', 11.46], ['15', 38.5948275862069], ['21', 16.009174311926607], ['20', 21.525], ['02', 23.810344827586206], ['18', 13.20183486238532], ['03', 7.796296296296297], ['05', 10.08695652173913], ['19', 10.8], ['01', 11.383333333333333], ['22', 6.746478873239437], ['08', 10.25], ['04', 7.170212765957447], ['00', 8.127272727272727], ['06', 9.022727272727273], ['07', 7.852941176470588], ['11', 11.051724137931034]]\n"
     ]
    }
   ],
   "source": [
    "#calculate the average number of posts per hour created during\n",
    "#each hour of the day\n",
    "\n",
    "avg_by_hour = []\n",
    "\n",
    "#use the dictionaries previously calculated for number of comments per hour\n",
    "#and number of counts per hour\n",
    "for hour in comments_by_hour:\n",
    "    avg_by_hour.append([hour, comments_by_hour[hour]/counts_by_hour[hour]])\n",
    "print('The average number of commnets per hour of day is', '\\n', avg_by_hour)\n"
   ]
  },
  {
   "cell_type": "markdown",
   "metadata": {},
   "source": [
    "For ease of readability, sort the average of comments per hour of day to determine which hour during the day receives the highest average number of comments."
   ]
  },
  {
   "cell_type": "code",
   "execution_count": 35,
   "metadata": {},
   "outputs": [
    {
     "name": "stdout",
     "output_type": "stream",
     "text": [
      "Top 5 Hours for Ask HN Posts Comments\n",
      "Time is in EST\n",
      "[['03:00 PM', '38.59 average comments per Ask HN posts'], ['02:00 AM', '23.81 average comments per Ask HN posts'], ['08:00 PM', '21.52 average comments per Ask HN posts'], ['04:00 PM', '16.80 average comments per Ask HN posts'], ['09:00 PM', '16.01 average comments per Ask HN posts']]\n"
     ]
    }
   ],
   "source": [
    "#sort avg_by_hour in descending order with the average number\n",
    "#of comments as the first element in the list\n",
    "swap_avg_by_hour = []\n",
    "for row in avg_by_hour:\n",
    "    swap_avg_by_hour.append([row[1], row[0]])\n",
    "sorted_swap = sorted(swap_avg_by_hour, reverse=True)\n",
    "\n",
    "print('Top 5 Hours for Ask HN Posts Comments')\n",
    "print('Time is in EST')\n",
    "for loop in sorted_swap:\n",
    "    dt_object = dt.datetime.strptime(loop[1], '%H')\n",
    "    loop[1] = dt.datetime.strftime(dt_object, '%I:%M %p')\n",
    "    loop[0] = \"{:.2f} average comments per Ask HN posts\".format(loop[0])\n",
    "\n",
    "#resort dictionary so hour is first element\n",
    "resorted = []\n",
    "for row in sorted_swap:\n",
    "    resorted.append([row[1], row[0]])\n",
    "print(resorted[:5])"
   ]
  },
  {
   "cell_type": "markdown",
   "metadata": {},
   "source": [
    "***Ask HN* Post with Most Points per Hour**"
   ]
  },
  {
   "cell_type": "markdown",
   "metadata": {},
   "source": [
    "Now that it's been established which hour of the day has the most comments on average, which hour of the day has the most points?"
   ]
  },
  {
   "cell_type": "code",
   "execution_count": 72,
   "metadata": {},
   "outputs": [
    {
     "name": "stdout",
     "output_type": "stream",
     "text": [
      "The total number of points per hour is {'09 AM': 329, '01 PM': 2062, '10 AM': 1102, '02 PM': 1282, '04 PM': 2522, '11 PM': 581, '12 PM': 782, '05 PM': 1941, '03 PM': 3479, '09 PM': 1721, '08 PM': 1151, '02 AM': 793, '06 PM': 1741, '03 AM': 374, '05 AM': 552, '07 PM': 1513, '01 AM': 700, '10 PM': 511, '08 AM': 515, '04 AM': 389, '12 AM': 451, '06 AM': 591, '07 AM': 361, '11 AM': 825}\n"
     ]
    }
   ],
   "source": [
    "#calculate the number of points per hour for Ask HN posts\n",
    "\n",
    "tot_pts_hr = {}\n",
    "\n",
    "for row in ask_posts:\n",
    "    hr = row[6]\n",
    "    pts = int(row[3])\n",
    "    dt_hr = dt.datetime.strptime(hr, \"%m/%d/%Y %H:%M\") \n",
    "    hr_only = dt.datetime.strftime(dt_hr, \"%I %p\")\n",
    "    if hr_only not in tot_pts_hr:\n",
    "        tot_pts_hr[hr_only] = pts\n",
    "    else:\n",
    "        tot_pts_hr[hr_only] += pts\n",
    "\n",
    "print('The total number of points per hour is', tot_pts_hr)    "
   ]
  },
  {
   "cell_type": "markdown",
   "metadata": {},
   "source": [
    "### Conclusion ###"
   ]
  },
  {
   "cell_type": "markdown",
   "metadata": {},
   "source": [
    "The best time to post an *Ask HN* comment is 3:00PM EST. 3:00PM is also the hour that received the most points. Therefore, it seems the optimal time to post *Ask HN* posts is 3:00PM.\n"
   ]
  }
 ],
 "metadata": {
  "kernelspec": {
   "display_name": "Python 3",
   "language": "python",
   "name": "python3"
  },
  "language_info": {
   "codemirror_mode": {
    "name": "ipython",
    "version": 3
   },
   "file_extension": ".py",
   "mimetype": "text/x-python",
   "name": "python",
   "nbconvert_exporter": "python",
   "pygments_lexer": "ipython3",
   "version": "3.8.2"
  }
 },
 "nbformat": 4,
 "nbformat_minor": 2
}
