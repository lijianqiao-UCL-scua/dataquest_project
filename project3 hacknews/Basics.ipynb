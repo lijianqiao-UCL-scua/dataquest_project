{
 "cells": [
  {
   "cell_type": "markdown",
   "metadata": {
    "collapsed": true
   },
   "source": [
    "# The consideration of Hacker News\n",
    "\n",
    "Hacker News is a site started by the startup incubator Y Combinator, where user-submitted stories (known as \"posts\") receive votes and comments, similar to reddit. Hacker News is extremely popular in technology and startup circles, and posts that make it to the top of the Hacker News listings can get hundreds of thousands of visitors as a result.\n",
    "\n",
    "In our analysis, we are specifically interested in posts with titles that begin with either **Ask HN** (Users submit posts to ask the Hacker News community a specific question) or **Show HN** (Users submit posts to show the Hacker News community a project, product or just something interesting).\n",
    "\n",
    "So we will compare these two types of posts to determine if **Ask HN** or **Show HN** reveive more comments and whether posts get more comments at a certain time."
   ]
  },
  {
   "cell_type": "code",
   "execution_count": 1,
   "metadata": {},
   "outputs": [
    {
     "name": "stdout",
     "output_type": "stream",
     "text": [
      "['12224879', 'Interactive Dynamic Video', 'http://www.interactivedynamicvideo.com/', '386', '52', 'ne0phyte', '8/4/2016 11:52']\n",
      "\n",
      "\n",
      "['10975351', 'How to Use Open Source and Shut the Fuck Up at the Same Time', 'http://hueniverse.com/2016/01/26/how-to-use-open-source-and-shut-the-fuck-up-at-the-same-time/', '39', '10', 'josep2', '1/26/2016 19:30']\n",
      "\n",
      "\n",
      "['11964716', \"Florida DJs May Face Felony for April Fools' Water Joke\", 'http://www.thewire.com/entertainment/2013/04/florida-djs-april-fools-water-joke/63798/', '2', '1', 'vezycash', '6/23/2016 22:20']\n",
      "\n",
      "\n",
      "['11919867', 'Technology ventures: From Idea to Enterprise', 'https://www.amazon.com/Technology-Ventures-Enterprise-Thomas-Byers/dp/0073523429', '3', '1', 'hswarna', '6/17/2016 0:01']\n",
      "\n",
      "\n",
      "['10301696', 'Note by Note: The Making of Steinway L1037 (2007)', 'http://www.nytimes.com/2007/11/07/movies/07stein.html?_r=0', '8', '2', 'walterbell', '9/30/2015 4:12']\n",
      "\n",
      "\n"
     ]
    }
   ],
   "source": [
    "# Import the dataset and display the first five rows\n",
    "\n",
    "from csv import reader\n",
    "import datetime as dt\n",
    "\n",
    "open_file = open('hacker_news.csv')\n",
    "read_file = reader(open_file)\n",
    "hn = list(read_file)\n",
    "header = hn[0]\n",
    "hn = hn[1:]\n",
    "\n",
    "for row in hn[:5]:\n",
    "    print(row)\n",
    "    print('\\n')"
   ]
  },
  {
   "cell_type": "markdown",
   "metadata": {},
   "source": [
    "Below you can find the descriptions of the columns and the printed header\n",
    "\n",
    "| index | columns | description |\n",
    "| :-: | -: | :- |\n",
    "| 0 | id | the unique identifier from Hacker News for the post |\n",
    "| 1 | title | the title of the post |\n",
    "| 2 | url | the URL that the posts links to, if the post has a URL |\n",
    "| 3 | num_points | the number of points the post acquired, calculated as the total number of upvotes minus the total number of downvotes |\n",
    "| 4 | num_comments | the number of comments on the post |\n",
    "| 5 | author | the username of the person who submitted the post |\n",
    "| 6 | created_at | the date and time of the post's submission |"
   ]
  },
  {
   "cell_type": "code",
   "execution_count": 2,
   "metadata": {},
   "outputs": [
    {
     "name": "stdout",
     "output_type": "stream",
     "text": [
      "['id', 'title', 'url', 'num_points', 'num_comments', 'author', 'created_at']\n"
     ]
    }
   ],
   "source": [
    "print(header)"
   ]
  },
  {
   "cell_type": "markdown",
   "metadata": {},
   "source": [
    "In our first step, we search the dataset for the corresponding keywords using **Ask HN** and **Show HN**.\n",
    "For this we use the string method `startswith` to find out which post starts with the corresponding keywords.The appropriate posts will then be split into the respective lists."
   ]
  },
  {
   "cell_type": "code",
   "execution_count": 3,
   "metadata": {},
   "outputs": [],
   "source": [
    "ask_posts = []\n",
    "show_posts = []\n",
    "other_posts = []\n",
    "\n",
    "# to filter all posts by their initial letters,\n",
    "# we iterate through each post and check if the first letters\n",
    "# match the ones queried here and if, we append the full row to the list above\n",
    "\n",
    "for post in hn:\n",
    "    title = post[1].lower()\n",
    "    if title.startswith('ask hn'):\n",
    "        ask_posts.append(post)\n",
    "    elif title.startswith('show hn'):\n",
    "        show_posts.append(post)\n",
    "    else:\n",
    "        other_posts.append(post)"
   ]
  },
  {
   "cell_type": "code",
   "execution_count": 4,
   "metadata": {},
   "outputs": [
    {
     "name": "stdout",
     "output_type": "stream",
     "text": [
      "Number of all posts: 20100\n",
      "\n",
      "Number of ask_posts: 1744\n",
      "Number of show_posts: 1162\n",
      "Number of other_posts: 17194\n"
     ]
    }
   ],
   "source": [
    "# now we check the exact number of posts in each list\n",
    "\n",
    "print('Number of all posts: ' + str(len(hn)))\n",
    "print('')\n",
    "print('Number of ask_posts: ' + str(len(ask_posts)))\n",
    "print('Number of show_posts: ' + str(len(show_posts)))\n",
    "print('Number of other_posts: ' + str(len(other_posts)))"
   ]
  },
  {
   "cell_type": "markdown",
   "metadata": {},
   "source": [
    "To verify if the lists are working correct, we have a look at the first and last two entries of each list."
   ]
  },
  {
   "cell_type": "code",
   "execution_count": 5,
   "metadata": {
    "scrolled": false
   },
   "outputs": [
    {
     "name": "stdout",
     "output_type": "stream",
     "text": [
      "Ask HN: How to improve my personal website?\n",
      "Ask HN: Why are papers still published as PDFs?\n",
      "Ask HN: Am I the only one outraged by Twitter shutting down share counts?\n",
      "Ask HN: How do you balance a serious relationship with starting a company?\n",
      "\n",
      "\n",
      "Show HN: Wio Link  ESP8266 Based Web of Things Hardware Development Platform\n",
      "Show HN: Parse recipe ingredients using JavaScript\n",
      "Show HN: Something pointless I made\n",
      "Show HN: PhantomJsCloud, Headless Browser SaaS\n"
     ]
    }
   ],
   "source": [
    "for entry in range(0, 2):\n",
    "    print(ask_posts[entry][1])\n",
    "    print(ask_posts[-entry-1][1])\n",
    "    \n",
    "print('\\n')\n",
    "    \n",
    "for entry in range(0, 2):\n",
    "    print(show_posts[entry][1])\n",
    "    print(show_posts[-entry-1][1])"
   ]
  },
  {
   "cell_type": "markdown",
   "metadata": {},
   "source": [
    "Now let's move on to answering the first basic question, whether **ask posts** or **show posts** gets more comments on average.\n",
    "\n",
    "To check this, we have to find the number of comments in each post at index 4, add this value to a total_comments variable and divide it by the length of each list."
   ]
  },
  {
   "cell_type": "code",
   "execution_count": 6,
   "metadata": {},
   "outputs": [
    {
     "name": "stdout",
     "output_type": "stream",
     "text": [
      "The average number of comments on ask posts is: 14.04\n"
     ]
    }
   ],
   "source": [
    "# find the total comments for the ask section\n",
    "total_ask_comments = 0\n",
    "\n",
    "for post in ask_posts:\n",
    "    comments = post[4]\n",
    "    total_ask_comments += int(comments)\n",
    "\n",
    "# calculate the average number of comments on ask posts\n",
    "avg_ask_comments = total_ask_comments / len(ask_posts)\n",
    "print('The average number of comments on ask posts is: ' + '{:.2f}'.format(avg_ask_comments))"
   ]
  },
  {
   "cell_type": "code",
   "execution_count": 7,
   "metadata": {
    "scrolled": true
   },
   "outputs": [
    {
     "name": "stdout",
     "output_type": "stream",
     "text": [
      "The average number of comments on show post is: 10.32\n"
     ]
    }
   ],
   "source": [
    "# find the total comments for the show section\n",
    "total_show_comments = 0\n",
    "\n",
    "for post in show_posts:\n",
    "    comments = post[4]\n",
    "    total_show_comments += int(comments)\n",
    "    \n",
    "# calculate the average number of comments on shpw posts\n",
    "avg_show_comments = total_show_comments / len(show_posts)\n",
    "print('The average number of comments on show post is: ' + '{:.2f}'.format(avg_show_comments))"
   ]
  },
  {
   "cell_type": "code",
   "execution_count": 8,
   "metadata": {},
   "outputs": [
    {
     "name": "stdout",
     "output_type": "stream",
     "text": [
      "The ask section gets 3.72 more comments.\n"
     ]
    }
   ],
   "source": [
    "# to get a conclusion,\n",
    "# we now subtract the calculated average number of aks posts\n",
    "# from the calculated average number of show posts \n",
    "# and get the average number of comments which we receive more per post\n",
    "\n",
    "avg_comments = avg_ask_comments - avg_show_comments\n",
    "\n",
    "if avg_ask_comments > avg_show_comments:\n",
    "    print('The ask section gets ' + '{:.2f}'.format(avg_comments) + ' more comments.')\n",
    "elif avg_show_comments > avg_ask_comments:\n",
    "    print('The show section gets ' + '{:.2f}'.format(avg_comments) + ' more comments.')\n",
    "elif avg_show_comments == avg_ask_comments:\n",
    "    print('Both sections generate on average the same number of comments')\n"
   ]
  },
  {
   "cell_type": "markdown",
   "metadata": {},
   "source": [
    "**Ask posts** receive on average about **4 comments** more per post.\n",
    "\n",
    "This could be explained, for example, by the fact that in the Ask-Section, users are asked in particular for solution approaches and are therefore more involved than in the Show-Section.\n",
    "\n",
    "Since aks posts are more likely to receive comments, we will focus our remaining analysis just on these posts.\n",
    "\n",
    "As a next step, we will investigate whether posts created at a certain time receive more comments. For this we will calculate the number of ask posts created in each hour of the day, along with the number of comments received and calculate the average number of comments ask posts receive by hour."
   ]
  },
  {
   "cell_type": "code",
   "execution_count": 9,
   "metadata": {},
   "outputs": [],
   "source": [
    "result_list = []\n",
    "\n",
    "# we iterate trough each post in ask_post, then asign\n",
    "# the timestamp to created_at and the number of comments\n",
    "# to num_comments. At the end we append a list with that\n",
    "# data to the result_list\n",
    "\n",
    "for post in ask_posts:\n",
    "    created_at = post[6] \n",
    "    num_comments = int(post[4])\n",
    "    result_list.append([created_at, num_comments])"
   ]
  },
  {
   "cell_type": "code",
   "execution_count": 10,
   "metadata": {},
   "outputs": [],
   "source": [
    "counts_by_hour = {} # contains the number of ask posts created during each hour of the day\n",
    "comments_by_hour = {} # contains the corresponding number of comments ask posts created at each hour received\n",
    "\n",
    "for row in result_list:\n",
    "    date_str = row[0]\n",
    "    num_comments = row[1]\n",
    "    dt_object = dt.datetime.strptime(date_str, '%m/%d/%Y %H:%M') # we convert the date string to a datetime object\n",
    "    hour = dt_object.strftime('%H') # we ectract the hour (%H) from the datetime object\n",
    "    \n",
    "    # now we create a frequent table and count the hour to get\n",
    "    # the number of posts for each hour and set the comments by hour\n",
    "    # equal to the comment number to get the comments in each hour.\n",
    "    \n",
    "    if hour not in counts_by_hour:\n",
    "        counts_by_hour[hour] = 1\n",
    "        comments_by_hour[hour] = num_comments\n",
    "    else:\n",
    "        counts_by_hour[hour] += 1\n",
    "        comments_by_hour[hour] += num_comments\n",
    "        "
   ]
  },
  {
   "cell_type": "code",
   "execution_count": 11,
   "metadata": {
    "scrolled": false
   },
   "outputs": [
    {
     "name": "stdout",
     "output_type": "stream",
     "text": [
      "Hour: 00 Posts: 55\n",
      "Hour: 01 Posts: 60\n",
      "Hour: 02 Posts: 58\n",
      "Hour: 03 Posts: 54\n",
      "Hour: 04 Posts: 47\n",
      "Hour: 05 Posts: 46\n",
      "Hour: 06 Posts: 44\n",
      "Hour: 07 Posts: 34\n",
      "Hour: 08 Posts: 48\n",
      "Hour: 09 Posts: 45\n",
      "Hour: 10 Posts: 59\n",
      "Hour: 11 Posts: 58\n",
      "Hour: 12 Posts: 73\n",
      "Hour: 13 Posts: 85\n",
      "Hour: 14 Posts: 107\n",
      "Hour: 15 Posts: 116\n",
      "Hour: 16 Posts: 108\n",
      "Hour: 17 Posts: 100\n",
      "Hour: 18 Posts: 109\n",
      "Hour: 19 Posts: 110\n",
      "Hour: 20 Posts: 80\n",
      "Hour: 21 Posts: 109\n",
      "Hour: 22 Posts: 71\n",
      "Hour: 23 Posts: 68\n"
     ]
    }
   ],
   "source": [
    "# with sorted(counts_by_hour) we sorted each row from 00 to 23\n",
    "\n",
    "for row in sorted(counts_by_hour):\n",
    "    print('Hour: ' + str(row) + ' Posts: ' + str(counts_by_hour[row]))"
   ]
  },
  {
   "cell_type": "code",
   "execution_count": 12,
   "metadata": {},
   "outputs": [
    {
     "name": "stdout",
     "output_type": "stream",
     "text": [
      "With 116 most of the posts were written around 15 o'clock.\n"
     ]
    }
   ],
   "source": [
    "# To get the hour with the most posts, we iterate though\n",
    "# the rows of counts_by_hour and if the row of counts_by_hour is \n",
    "# bigger than max_by_hour we asign the row and number to max_hour\n",
    "\n",
    "max_by_hour = 0\n",
    "max_hour = []\n",
    "\n",
    "for row in counts_by_hour:\n",
    "    if counts_by_hour[row] > max_by_hour:\n",
    "        max_by_hour = counts_by_hour[row]\n",
    "        max_hour = [row, max_by_hour]\n",
    "\n",
    "print('With ' + str(max_hour[1]) + ' most of the posts were written around ' + str(max_hour[0]) + \" o'clock.\") "
   ]
  },
  {
   "cell_type": "code",
   "execution_count": 13,
   "metadata": {
    "scrolled": true
   },
   "outputs": [
    {
     "name": "stdout",
     "output_type": "stream",
     "text": [
      "Hour: 00 Comments: 447\n",
      "Hour: 01 Comments: 683\n",
      "Hour: 02 Comments: 1381\n",
      "Hour: 03 Comments: 421\n",
      "Hour: 04 Comments: 337\n",
      "Hour: 05 Comments: 464\n",
      "Hour: 06 Comments: 397\n",
      "Hour: 07 Comments: 267\n",
      "Hour: 08 Comments: 492\n",
      "Hour: 09 Comments: 251\n",
      "Hour: 10 Comments: 793\n",
      "Hour: 11 Comments: 641\n",
      "Hour: 12 Comments: 687\n",
      "Hour: 13 Comments: 1253\n",
      "Hour: 14 Comments: 1416\n",
      "Hour: 15 Comments: 4477\n",
      "Hour: 16 Comments: 1814\n",
      "Hour: 17 Comments: 1146\n",
      "Hour: 18 Comments: 1439\n",
      "Hour: 19 Comments: 1188\n",
      "Hour: 20 Comments: 1722\n",
      "Hour: 21 Comments: 1745\n",
      "Hour: 22 Comments: 479\n",
      "Hour: 23 Comments: 543\n"
     ]
    }
   ],
   "source": [
    "# with sorted(comments_by_hour) we sorted each row from 00 to 23\n",
    "\n",
    "for row in sorted(comments_by_hour):\n",
    "    print('Hour: ' + str(row) +  ' Comments: ' + str(comments_by_hour[row]))"
   ]
  },
  {
   "cell_type": "code",
   "execution_count": 14,
   "metadata": {},
   "outputs": [
    {
     "name": "stdout",
     "output_type": "stream",
     "text": [
      "With 4477 most of the comments were written around 15 o'clock.\n"
     ]
    }
   ],
   "source": [
    "# To get the hour with the most comments, we iterate though\n",
    "# the rows of comments_by_hour and if the row of comments_by_hour is \n",
    "# bigger than max_by_comments we asign the row and number to max_comments\n",
    "\n",
    "max_by_comments = 0\n",
    "max_comments = []\n",
    "\n",
    "for row in comments_by_hour:\n",
    "    if comments_by_hour[row] > max_by_comments:\n",
    "        max_by_comments = comments_by_hour[row]\n",
    "        max_comments = [row, comments_by_hour[row]]\n",
    "\n",
    "print('With ' + str(max_comments[1]) + ' most of the comments were written around ' + str(max_comments[0]) + \" o'clock.\")"
   ]
  },
  {
   "cell_type": "markdown",
   "metadata": {},
   "source": [
    "Now that we have checked counts_by_hour and comments_by_hour, we found out that the most posts and the most comments were written around **3 pm**.\n",
    "\n",
    "To support this statement, we calculate the average number of comments per post for posts created during each hour of the day."
   ]
  },
  {
   "cell_type": "code",
   "execution_count": 15,
   "metadata": {},
   "outputs": [
    {
     "name": "stdout",
     "output_type": "stream",
     "text": [
      "Hour: 00 Comments (avg): 8.127272727272727\n",
      "Hour: 01 Comments (avg): 11.383333333333333\n",
      "Hour: 02 Comments (avg): 23.810344827586206\n",
      "Hour: 03 Comments (avg): 7.796296296296297\n",
      "Hour: 04 Comments (avg): 7.170212765957447\n",
      "Hour: 05 Comments (avg): 10.08695652173913\n",
      "Hour: 06 Comments (avg): 9.022727272727273\n",
      "Hour: 07 Comments (avg): 7.852941176470588\n",
      "Hour: 08 Comments (avg): 10.25\n",
      "Hour: 09 Comments (avg): 5.5777777777777775\n",
      "Hour: 10 Comments (avg): 13.440677966101696\n",
      "Hour: 11 Comments (avg): 11.051724137931034\n",
      "Hour: 12 Comments (avg): 9.41095890410959\n",
      "Hour: 13 Comments (avg): 14.741176470588234\n",
      "Hour: 14 Comments (avg): 13.233644859813085\n",
      "Hour: 15 Comments (avg): 38.5948275862069\n",
      "Hour: 16 Comments (avg): 16.796296296296298\n",
      "Hour: 17 Comments (avg): 11.46\n",
      "Hour: 18 Comments (avg): 13.20183486238532\n",
      "Hour: 19 Comments (avg): 10.8\n",
      "Hour: 20 Comments (avg): 21.525\n",
      "Hour: 21 Comments (avg): 16.009174311926607\n",
      "Hour: 22 Comments (avg): 6.746478873239437\n",
      "Hour: 23 Comments (avg): 7.985294117647059\n"
     ]
    }
   ],
   "source": [
    "avg_by_hour = []\n",
    "for hour in counts_by_hour:\n",
    "    avg = comments_by_hour[hour] / counts_by_hour[hour]\n",
    "    avg_by_hour.append([hour, avg])\n",
    "\n",
    "for row in sorted(avg_by_hour):\n",
    "    print('Hour: ' + str(row[0]) + ' Comments (avg): ' + str(row[1])) "
   ]
  },
  {
   "cell_type": "markdown",
   "metadata": {},
   "source": [
    "To get a better overview, we swap the corresponding entries and sort them by size."
   ]
  },
  {
   "cell_type": "code",
   "execution_count": 16,
   "metadata": {},
   "outputs": [
    {
     "name": "stdout",
     "output_type": "stream",
     "text": [
      "[[5.5777777777777775, '09'], [14.741176470588234, '13'], [13.440677966101696, '10'], [13.233644859813085, '14'], [16.796296296296298, '16'], [7.985294117647059, '23'], [9.41095890410959, '12'], [11.46, '17'], [38.5948275862069, '15'], [16.009174311926607, '21'], [21.525, '20'], [23.810344827586206, '02'], [13.20183486238532, '18'], [7.796296296296297, '03'], [10.08695652173913, '05'], [10.8, '19'], [11.383333333333333, '01'], [6.746478873239437, '22'], [10.25, '08'], [7.170212765957447, '04'], [8.127272727272727, '00'], [9.022727272727273, '06'], [7.852941176470588, '07'], [11.051724137931034, '11']]\n"
     ]
    }
   ],
   "source": [
    "swap_avg_by_hour = []\n",
    "\n",
    "for row in avg_by_hour:\n",
    "    swap_avg_by_hour.append([row[1], row[0]]) # here we swap the index of the row and append it the new list\n",
    "    \n",
    "print(swap_avg_by_hour)"
   ]
  },
  {
   "cell_type": "code",
   "execution_count": 17,
   "metadata": {},
   "outputs": [
    {
     "name": "stdout",
     "output_type": "stream",
     "text": [
      "Top 5 Hours for Ask Posts Comments\n",
      "15:00: 38.59 comments per post\n",
      "02:00: 23.81 comments per post\n",
      "20:00: 21.52 comments per post\n",
      "16:00: 16.80 comments per post\n",
      "21:00: 16.01 comments per post\n"
     ]
    }
   ],
   "source": [
    "sorted_swap = sorted(swap_avg_by_hour, reverse=True) # we sorted the new list\n",
    "\n",
    "print('Top 5 Hours for Ask Posts Comments')\n",
    "\n",
    "for average, hour in sorted_swap[:5]:\n",
    "    hour_object = dt.datetime.strptime(hour, '%H') # convert the string to datetime object\n",
    "    time = hour_object.strftime('%H:%M') # format the datetime object \n",
    "    print('{time}: {average:.2f} comments per post'.format(time=time, average=average) )"
   ]
  },
  {
   "cell_type": "markdown",
   "metadata": {},
   "source": [
    "We should create a post at 15:00 o'clock to have a higher chance of reveiving comments. \n",
    "\n",
    "This dataset refers to the time zone in eastern time, so because we live in berlin, we need to add 6 hours to each time to get the right time to post in germany on the website of Hacker News."
   ]
  },
  {
   "cell_type": "code",
   "execution_count": 18,
   "metadata": {
    "scrolled": true
   },
   "outputs": [
    {
     "name": "stdout",
     "output_type": "stream",
     "text": [
      "Top 5 Hours in CET (Berlin) for Ask Posts Comments\n",
      "21:00: 38.59 comments per post\n",
      "08:00: 23.81 comments per post\n",
      "02:00: 21.52 comments per post\n",
      "22:00: 16.80 comments per post\n",
      "03:00: 16.01 comments per post\n"
     ]
    }
   ],
   "source": [
    "print('Top 5 Hours in CET (Berlin) for Ask Posts Comments')\n",
    "\n",
    "for average, hour in sorted_swap[:5]:\n",
    "    hour_object = dt.datetime.strptime(hour, '%H') # convert the string to datetime object\n",
    "    cet = hour_object + dt.timedelta(hours=6)\n",
    "    time = cet.strftime('%H:%M') # format the datetime object\n",
    "    print('{time}: {average:.2f} comments per post'.format(time=time, average=average) )"
   ]
  },
  {
   "cell_type": "markdown",
   "metadata": {},
   "source": [
    "In our analysis we found out that there are the most comments in the Ask-Section. In order for our articles to have a higher chance of receiving as many comments as possible, we should publish an article around **3pm**. Since we are located in Berlin, we stick to the CET and should therefore publish an article around **9pm**.\n",
    "\n",
    "Even though this analysis has now given us an estimate of when it is worth writing an article, it doesn't mean that we will always get the most comments if we publish at 3pm. So, of course, the content of the article still plays a key role."
   ]
  }
 ],
 "metadata": {
  "kernelspec": {
   "display_name": "Python 3",
   "language": "python",
   "name": "python3"
  },
  "language_info": {
   "codemirror_mode": {
    "name": "ipython",
    "version": 3
   },
   "file_extension": ".py",
   "mimetype": "text/x-python",
   "name": "python",
   "nbconvert_exporter": "python",
   "pygments_lexer": "ipython3",
   "version": "3.8.5"
  }
 },
 "nbformat": 4,
 "nbformat_minor": 2
}
